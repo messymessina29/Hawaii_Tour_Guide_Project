{
 "cells": [
  {
   "cell_type": "code",
   "execution_count": 1,
   "metadata": {},
   "outputs": [],
   "source": [
    "import requests\n",
    "import json\n",
    "import pandas as pd\n",
    "from config import API_KEY"
   ]
  },
  {
   "cell_type": "code",
   "execution_count": 2,
   "metadata": {},
   "outputs": [],
   "source": [
    "params = {\n",
    "    'term': 'tourist attractions',\n",
    "    'location': 'Honolulu, HI',\n",
    "    'limit': 50,\n",
    "    'radius': 8000  # in meters\n",
    "}\n"
   ]
  },
  {
   "cell_type": "code",
   "execution_count": 3,
   "metadata": {},
   "outputs": [],
   "source": [
    "headers = {\n",
    "    'Authorization': f'Bearer {API_KEY}'\n",
    "}\n",
    "\n",
    "base_url = \"https://api.yelp.com/v3/businesses/search\""
   ]
  },
  {
   "cell_type": "code",
   "execution_count": 4,
   "metadata": {},
   "outputs": [],
   "source": [
    "response = requests.get(base_url, headers=headers, params=params)\n",
    "data = response.json()"
   ]
  },
  {
   "cell_type": "code",
   "execution_count": 5,
   "metadata": {},
   "outputs": [],
   "source": [
    "names = []\n",
    "types = []\n",
    "addresses = []\n",
    "distances = []\n",
    "lats = []\n",
    "longs = []\n",
    "ratings = []\n",
    "prices = []\n",
    "\n",
    "for business in data.get('businesses', []):\n",
    "    try:\n",
    "        name = business[\"name\"]\n",
    "        type = business['categories'][0]['title'] if business['categories'] else \"N/A\"\n",
    "        address = business[\"location\"][\"address1\"]\n",
    "        distance = business.get(\"distance\", \"N/A\")\n",
    "        lat = business[\"coordinates\"][\"latitude\"]\n",
    "        long = business[\"coordinates\"][\"longitude\"]\n",
    "        rating = business.get(\"rating\", \"N/A\")\n",
    "        price = business.get(\"price\", \"N/A\")\n",
    "    except (KeyError, IndexError):\n",
    "        type = \"N/A\"\n",
    "        \n",
    "    names.append(name)\n",
    "    types.append(type)\n",
    "    addresses.append(address)\n",
    "    distances.append(distance)\n",
    "    lats.append(lat)\n",
    "    longs.append(long)\n",
    "    ratings.append(rating)\n",
    "    prices.append(price)"
   ]
  },
  {
   "cell_type": "code",
   "execution_count": 6,
   "metadata": {},
   "outputs": [],
   "source": [
    "attractions_df = pd.DataFrame({\n",
    "    'Name': names,\n",
    "    'Type': types,\n",
    "    'Address': addresses,\n",
    "    'Distance(Meters)': distances,\n",
    "    'Latitude': lats,\n",
    "    'Longitude': longs,\n",
    "    'Rating': ratings,\n",
    "    'Price': prices\n",
    "})"
   ]
  },
  {
   "cell_type": "code",
   "execution_count": 7,
   "metadata": {},
   "outputs": [],
   "source": [
    "attractions_df.to_json('touristic_activities.json', orient='records', lines=False)\n"
   ]
  },
  {
   "cell_type": "code",
   "execution_count": 8,
   "metadata": {},
   "outputs": [
    {
     "name": "stdout",
     "output_type": "stream",
     "text": [
      "                                        Name  \\\n",
      "0                Diamond Head State Monument   \n",
      "1                          Mānoa Falls Trail   \n",
      "2  The Kaniakapupu Ruins - Access Restricted   \n",
      "3                               Kualoa Ranch   \n",
      "4                  Hawaii Glass Bottom Boats   \n",
      "\n",
      "                               Type                  Address  \\\n",
      "0                             Parks          Diamond Head Rd   \n",
      "1                            Hiking            3860 Manoa Rd   \n",
      "2  Landmarks & Historical Buildings      4295 Nuuanu Pali Dr   \n",
      "3                             Tours    49-560 Kamehameha Hwy   \n",
      "4                     Boat Charters  1009 Ala Moana Blvd F21   \n",
      "\n",
      "   Distance(Meters)   Latitude   Longitude  Rating Price  \n",
      "0       7014.081958  21.262945 -157.803324     4.5   N/A  \n",
      "1       5780.233926  21.341283 -157.799004     4.4   N/A  \n",
      "2       5177.117222  21.353664 -157.811415     4.6   N/A  \n",
      "3      22973.804993  21.518847 -157.853400     4.6   N/A  \n",
      "4       2328.965425  21.294182 -157.856524     4.7   N/A  \n"
     ]
    }
   ],
   "source": [
    "print(attractions_df.head())\n"
   ]
  },
  {
   "cell_type": "code",
   "execution_count": null,
   "metadata": {},
   "outputs": [],
   "source": []
  }
 ],
 "metadata": {
  "kernelspec": {
   "display_name": "base",
   "language": "python",
   "name": "python3"
  },
  "language_info": {
   "codemirror_mode": {
    "name": "ipython",
    "version": 3
   },
   "file_extension": ".py",
   "mimetype": "text/x-python",
   "name": "python",
   "nbconvert_exporter": "python",
   "pygments_lexer": "ipython3",
   "version": "3.11.7"
  }
 },
 "nbformat": 4,
 "nbformat_minor": 2
}
