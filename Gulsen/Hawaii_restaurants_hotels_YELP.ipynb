{
 "cells": [
  {
   "cell_type": "code",
   "execution_count": 1,
   "metadata": {},
   "outputs": [],
   "source": [
    "import requests\n",
    "import json\n",
    "import pandas as pd\n",
    "from config import API_KEY\n",
    "\n",
    "\n",
    "\n"
   ]
  },
  {
   "cell_type": "code",
   "execution_count": 8,
   "metadata": {},
   "outputs": [],
   "source": [
    "HEADERS = {'Authorization': f'Bearer {API_KEY}'}\n",
    "SEARCH_URL = 'https://api.yelp.com/v3/businesses/search'"
   ]
  },
  {
   "cell_type": "code",
   "execution_count": 9,
   "metadata": {},
   "outputs": [],
   "source": [
    "params = {\n",
    "    'term': 'restaurants',  \n",
    "    'location': 'Honolulu, HI',\n",
    "    'limit': 50,  \n",
    "    'radius': 8000  \n",
    "}\n"
   ]
  },
  {
   "cell_type": "code",
   "execution_count": 10,
   "metadata": {},
   "outputs": [],
   "source": [
    "def fetch_data(offset=0):\n",
    "    params['offset'] = offset\n",
    "    response = requests.get(SEARCH_URL, headers=HEADERS, params=params)\n",
    "    return response.json()"
   ]
  },
  {
   "cell_type": "code",
   "execution_count": 11,
   "metadata": {},
   "outputs": [],
   "source": [
    "#honolulu only\n",
    "\n",
    "data_honolulu = fetch_data(0)\n",
    "businesses = data_honolulu['businesses']"
   ]
  },
  {
   "cell_type": "code",
   "execution_count": 12,
   "metadata": {},
   "outputs": [],
   "source": [
    "#for waikiki\n",
    "\n",
    "params['location'] = 'Waikiki, Honolulu, HI'\n",
    "data_waikiki = fetch_data(0)\n",
    "businesses.extend(data_waikiki['businesses'])"
   ]
  },
  {
   "cell_type": "code",
   "execution_count": 6,
   "metadata": {},
   "outputs": [],
   "source": [
    "names = []\n",
    "types = []\n",
    "addresses = []\n",
    "distances = []\n",
    "lats = []\n",
    "longs = []\n",
    "ratings = []\n",
    "prices = []\n",
    "\n",
    "for business in businesses:\n",
    "    try:\n",
    "        name = business[\"name\"]\n",
    "        type = business['categories'][0]['title'] if business['categories'] else \"N/A\"\n",
    "        address = ', '.join(business['location']['display_address'])\n",
    "        distance = business.get(\"distance\", \"N/A\")\n",
    "        lat = business[\"coordinates\"][\"latitude\"]\n",
    "        long = business[\"coordinates\"][\"longitude\"]\n",
    "        rating = business.get(\"rating\", \"N/A\")\n",
    "        price = business.get(\"price\", \"N/A\")\n",
    "    except (KeyError, IndexError):\n",
    "        type = \"N/A\"\n",
    "        \n",
    "    names.append(name)\n",
    "    types.append(type)\n",
    "    addresses.append(address)\n",
    "    distances.append(distance)\n",
    "    lats.append(lat)\n",
    "    longs.append(long)\n",
    "    ratings.append(rating)\n",
    "    prices.append(price)\n",
    "\n"
   ]
  },
  {
   "cell_type": "code",
   "execution_count": 14,
   "metadata": {},
   "outputs": [],
   "source": [
    "restaurants100_df = pd.DataFrame({\n",
    "    'Name': names,\n",
    "    'Type': types,\n",
    "    'Address': addresses,\n",
    "    'Distance(Meters)': distances,\n",
    "    'Latitude': lats,\n",
    "    'Longitude': longs,\n",
    "    'Rating': ratings,\n",
    "    'Price': prices\n",
    "})"
   ]
  },
  {
   "cell_type": "code",
   "execution_count": 15,
   "metadata": {},
   "outputs": [],
   "source": [
    "restaurants100_df.to_json('restaurants.json', orient='records', lines=False)\n"
   ]
  },
  {
   "cell_type": "code",
   "execution_count": 17,
   "metadata": {},
   "outputs": [
    {
     "data": {
      "text/html": [
       "<div>\n",
       "<style scoped>\n",
       "    .dataframe tbody tr th:only-of-type {\n",
       "        vertical-align: middle;\n",
       "    }\n",
       "\n",
       "    .dataframe tbody tr th {\n",
       "        vertical-align: top;\n",
       "    }\n",
       "\n",
       "    .dataframe thead th {\n",
       "        text-align: right;\n",
       "    }\n",
       "</style>\n",
       "<table border=\"1\" class=\"dataframe\">\n",
       "  <thead>\n",
       "    <tr style=\"text-align: right;\">\n",
       "      <th></th>\n",
       "      <th>Name</th>\n",
       "      <th>Type</th>\n",
       "      <th>Address</th>\n",
       "      <th>Distance(Meters)</th>\n",
       "      <th>Latitude</th>\n",
       "      <th>Longitude</th>\n",
       "      <th>Rating</th>\n",
       "      <th>Price</th>\n",
       "    </tr>\n",
       "  </thead>\n",
       "  <tbody>\n",
       "  </tbody>\n",
       "</table>\n",
       "</div>"
      ],
      "text/plain": [
       "Empty DataFrame\n",
       "Columns: [Name, Type, Address, Distance(Meters), Latitude, Longitude, Rating, Price]\n",
       "Index: []"
      ]
     },
     "execution_count": 17,
     "metadata": {},
     "output_type": "execute_result"
    }
   ],
   "source": [
    "restaurants100_df.head()\n"
   ]
  }
 ],
 "metadata": {
  "kernelspec": {
   "display_name": "base",
   "language": "python",
   "name": "python3"
  },
  "language_info": {
   "codemirror_mode": {
    "name": "ipython",
    "version": 3
   },
   "file_extension": ".py",
   "mimetype": "text/x-python",
   "name": "python",
   "nbconvert_exporter": "python",
   "pygments_lexer": "ipython3",
   "version": "3.11.7"
  }
 },
 "nbformat": 4,
 "nbformat_minor": 2
}
