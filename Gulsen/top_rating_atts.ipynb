{
 "cells": [
  {
   "cell_type": "code",
   "execution_count": 37,
   "metadata": {},
   "outputs": [],
   "source": [
    "import pandas as pd\n",
    "import matplotlib.pyplot as plt\n",
    "\n"
   ]
  },
  {
   "cell_type": "code",
   "execution_count": 38,
   "metadata": {},
   "outputs": [],
   "source": [
    "# Load the data from your CSV file\n",
    "data = pd.read_csv('../Gulsen/touristic_activities.csv')\n",
    "\n"
   ]
  },
  {
   "cell_type": "code",
   "execution_count": 39,
   "metadata": {},
   "outputs": [],
   "source": [
    "# Ensure Rating column is numeric\n",
    "data['Rating'] = pd.to_numeric(data['Rating'], errors='coerce')\n",
    "\n"
   ]
  },
  {
   "cell_type": "code",
   "execution_count": 40,
   "metadata": {},
   "outputs": [],
   "source": [
    "# Sort the data by Rating in descending order and select the top 10\n",
    "top_rated_attractions = data.sort_values(by='Rating', ascending=False).head(10)\n",
    "\n"
   ]
  },
  {
   "cell_type": "code",
   "execution_count": 46,
   "metadata": {},
   "outputs": [],
   "source": [
    "fig, ax = plt.subplots(figsize=(12, 6))  # Adjust the size as needed\n",
    "ax.axis('tight')\n",
    "ax.axis('off')\n",
    "\n",
    "table = ax.table(cellText=top_rated_attractions[['Name', 'Type', 'Rating']].values,\n",
    "                 colLabels=['Name', 'Type', 'Rating'],\n",
    "                 cellLoc='center', \n",
    "                 loc='center')\n",
    "\n",
    "table.auto_set_font_size(False)\n",
    "table.set_fontsize(12)\n",
    "table.scale(1.2, 1.2)\n",
    "\n",
    "plt.title(\"Top 10 Highest-Rated Attractions\")\n",
    "plt.savefig('../Gulsen/top_10_attractions.png')\n",
    "plt.close()\n",
    "\n"
   ]
  },
  {
   "cell_type": "code",
   "execution_count": 42,
   "metadata": {},
   "outputs": [
    {
     "data": {
      "text/plain": [
       "<Figure size 640x480 with 0 Axes>"
      ]
     },
     "metadata": {},
     "output_type": "display_data"
    }
   ],
   "source": [
    "plt.savefig('../Gulsen/top_10_attractions.png')\n"
   ]
  },
  {
   "cell_type": "code",
   "execution_count": 43,
   "metadata": {},
   "outputs": [],
   "source": [
    "plt.close()\n"
   ]
  },
  {
   "cell_type": "code",
   "execution_count": 47,
   "metadata": {},
   "outputs": [],
   "source": [
    "type_ratings = data.groupby('Type')['Rating'].mean().reset_index()\n",
    "top_rated_types = type_ratings.sort_values(by='Rating', ascending=False).head(5)\n",
    "fig, ax = plt.subplots(figsize=(10, 4))  # Adjust the size as needed\n",
    "ax.axis('tight')\n",
    "ax.axis('off')\n",
    "\n",
    "table = ax.table(cellText=top_rated_types[['Type', 'Rating']].values,\n",
    "                 colLabels=['Type', 'Average Rating'],\n",
    "                 cellLoc='center', \n",
    "                 loc='center')\n",
    "\n",
    "table.auto_set_font_size(False)\n",
    "table.set_fontsize(12)\n",
    "table.scale(1.2, 1.2)\n",
    "\n",
    "plt.title(\"Top 5 Types with Highest Average Ratings\")\n",
    "plt.savefig('../Gulsen/top_5_types.png')\n",
    "plt.close()"
   ]
  },
  {
   "cell_type": "code",
   "execution_count": 49,
   "metadata": {},
   "outputs": [],
   "source": [
    "# Bar Chart of Types of Attractions\n",
    "type_counts = data['Type'].value_counts()\n",
    "\n",
    "fig, ax = plt.subplots(figsize=(12, 6))\n",
    "type_counts.plot(kind='bar', ax=ax)\n",
    "ax.set_title('Number of Different Types of Attractions')\n",
    "ax.set_xlabel('Type')\n",
    "ax.set_ylabel('Count')\n",
    "\n",
    "plt.tight_layout()\n",
    "plt.savefig('../Gulsen/type_counts.png')\n",
    "plt.close()\n",
    "\n",
    "\n"
   ]
  },
  {
   "cell_type": "code",
   "execution_count": 50,
   "metadata": {},
   "outputs": [],
   "source": [
    "# Pie Chart of Ratings Distribution\n",
    "rating_distribution = data['Rating'].value_counts().sort_index()\n",
    "\n",
    "fig, ax = plt.subplots(figsize=(8, 8))\n",
    "rating_distribution.plot(kind='pie', ax=ax, autopct='%1.1f%%', startangle=90)\n",
    "ax.set_ylabel('')\n",
    "ax.set_title('Distribution of Ratings for Attractions')\n",
    "\n",
    "plt.tight_layout()\n",
    "plt.savefig('../Gulsen/rating_distribution.png')\n",
    "plt.close()\n",
    "\n",
    "\n"
   ]
  }
 ],
 "metadata": {
  "kernelspec": {
   "display_name": "base",
   "language": "python",
   "name": "python3"
  },
  "language_info": {
   "codemirror_mode": {
    "name": "ipython",
    "version": 3
   },
   "file_extension": ".py",
   "mimetype": "text/x-python",
   "name": "python",
   "nbconvert_exporter": "python",
   "pygments_lexer": "ipython3",
   "version": "3.11.7"
  }
 },
 "nbformat": 4,
 "nbformat_minor": 2
}
