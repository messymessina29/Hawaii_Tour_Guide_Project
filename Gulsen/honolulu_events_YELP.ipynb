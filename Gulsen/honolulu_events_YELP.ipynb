{
 "cells": [
  {
   "cell_type": "code",
   "execution_count": 11,
   "metadata": {},
   "outputs": [],
   "source": [
    "import requests\n",
    "import json\n",
    "import pandas as pd\n",
    "from config import API_KEY"
   ]
  },
  {
   "cell_type": "code",
   "execution_count": 12,
   "metadata": {},
   "outputs": [],
   "source": [
    "HEADERS = {'Authorization': f'Bearer {API_KEY}'}\n",
    "SEARCH_URL = 'https://api.yelp.com/v3/businesses/search'"
   ]
  },
  {
   "cell_type": "code",
   "execution_count": 14,
   "metadata": {},
   "outputs": [],
   "source": [
    "def fetch_events(location):\n",
    "    params = {\n",
    "        'location': location,\n",
    "        'limit': 50,\n",
    "        'radius': 8000  # in meters\n",
    "    }\n",
    "    response = requests.get(SEARCH_URL, headers=HEADERS, params=params)\n",
    "    return response.json()['events']\n"
   ]
  },
  {
   "cell_type": "code",
   "execution_count": 8,
   "metadata": {},
   "outputs": [],
   "source": [
    "def process_events(events):\n",
    "    names = []\n",
    "    categories = []\n",
    "    addresses = []\n",
    "    times = []\n",
    "    prices = []\n",
    "    ratings = []\n",
    "    latitudes = []\n",
    "    longitudes = []\n",
    "\n",
    "    for event in events:\n",
    "        try:\n",
    "            name = event[\"name\"]\n",
    "            category = event.get(\"category\", \"N/A\")\n",
    "            address = event['location'].get('address1', 'N/A')\n",
    "            time = event.get(\"time_start\", \"N/A\")\n",
    "            price = event.get('cost', 'Free' if event.get('is_free') else event.get('cost', 'N/A'))\n",
    "            rating = event.get(\"rating\", \"N/A\")\n",
    "            latitude = event[\"latitude\"]\n",
    "            longitude = event[\"longitude\"]\n",
    "        except (KeyError, IndexError):\n",
    "            category = \"N/A\"\n",
    "\n",
    "        names.append(name)\n",
    "        categories.append(category)\n",
    "        addresses.append(address)\n",
    "        times.append(time)\n",
    "        prices.append(price)\n",
    "        ratings.append(rating)\n",
    "        latitudes.append(latitude)\n",
    "        longitudes.append(longitude)\n",
    "\n",
    "    return pd.DataFrame({\n",
    "        'Name': names,\n",
    "        'Category': categories,\n",
    "        'Address': addresses,\n",
    "        'Time': times,\n",
    "        'Price': prices,\n",
    "        'Rating': ratings,\n",
    "        'Latitude': latitudes,\n",
    "        'Longitude': longitudes\n",
    "    })\n"
   ]
  },
  {
   "cell_type": "code",
   "execution_count": 9,
   "metadata": {},
   "outputs": [
    {
     "ename": "KeyError",
     "evalue": "'events'",
     "output_type": "error",
     "traceback": [
      "\u001b[0;31m---------------------------------------------------------------------------\u001b[0m",
      "\u001b[0;31mKeyError\u001b[0m                                  Traceback (most recent call last)",
      "Cell \u001b[0;32mIn[9], line 1\u001b[0m\n\u001b[0;32m----> 1\u001b[0m honolulu_events \u001b[38;5;241m=\u001b[39m fetch_events(\u001b[38;5;124m'\u001b[39m\u001b[38;5;124mHonolulu, HI\u001b[39m\u001b[38;5;124m'\u001b[39m)\n\u001b[1;32m      2\u001b[0m honolulu_df \u001b[38;5;241m=\u001b[39m process_events(honolulu_events)\n",
      "Cell \u001b[0;32mIn[3], line 8\u001b[0m, in \u001b[0;36mfetch_events\u001b[0;34m(location)\u001b[0m\n\u001b[1;32m      2\u001b[0m params \u001b[38;5;241m=\u001b[39m {\n\u001b[1;32m      3\u001b[0m     \u001b[38;5;124m'\u001b[39m\u001b[38;5;124mlocation\u001b[39m\u001b[38;5;124m'\u001b[39m: location,\n\u001b[1;32m      4\u001b[0m     \u001b[38;5;124m'\u001b[39m\u001b[38;5;124mlimit\u001b[39m\u001b[38;5;124m'\u001b[39m: \u001b[38;5;241m50\u001b[39m,\n\u001b[1;32m      5\u001b[0m     \u001b[38;5;124m'\u001b[39m\u001b[38;5;124mradius\u001b[39m\u001b[38;5;124m'\u001b[39m: \u001b[38;5;241m8000\u001b[39m  \u001b[38;5;66;03m# in meters\u001b[39;00m\n\u001b[1;32m      6\u001b[0m }\n\u001b[1;32m      7\u001b[0m response \u001b[38;5;241m=\u001b[39m requests\u001b[38;5;241m.\u001b[39mget(SEARCH_URL, headers\u001b[38;5;241m=\u001b[39mHEADERS, params\u001b[38;5;241m=\u001b[39mparams)\n\u001b[0;32m----> 8\u001b[0m \u001b[38;5;28;01mreturn\u001b[39;00m response\u001b[38;5;241m.\u001b[39mjson()[\u001b[38;5;124m'\u001b[39m\u001b[38;5;124mevents\u001b[39m\u001b[38;5;124m'\u001b[39m]\n",
      "\u001b[0;31mKeyError\u001b[0m: 'events'"
     ]
    }
   ],
   "source": [
    "honolulu_events = fetch_events('Honolulu, HI')\n",
    "honolulu_df = process_events(honolulu_events)"
   ]
  }
 ],
 "metadata": {
  "kernelspec": {
   "display_name": "base",
   "language": "python",
   "name": "python3"
  },
  "language_info": {
   "codemirror_mode": {
    "name": "ipython",
    "version": 3
   },
   "file_extension": ".py",
   "mimetype": "text/x-python",
   "name": "python",
   "nbconvert_exporter": "python",
   "pygments_lexer": "ipython3",
   "version": "3.11.7"
  }
 },
 "nbformat": 4,
 "nbformat_minor": 2
}
