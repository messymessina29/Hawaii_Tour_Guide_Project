{
 "cells": [
  {
   "cell_type": "code",
   "execution_count": 2,
   "metadata": {},
   "outputs": [],
   "source": [
    "import pandas as pd\n",
    "import numpy as np\n",
    "import requests\n",
    "import json\n",
    "\n",
    "# Import the API key\n",
    "from config import key "
   ]
  },
  {
   "cell_type": "code",
   "execution_count": 3,
   "metadata": {},
   "outputs": [],
   "source": [
    "latitude = 21.3099\n",
    "longitude = -157.8581\n",
    "limit = 50\n",
    "radius = 8000 \n",
    "\n",
    "city = \"Honolulu\"\n",
    "units = \"imperial\"\n",
    "\n",
    "#url1 = f\"http://api.openweathermap.org/data/2.5/find?lat={latitude}&lon={longitude}&cnt=10&appid={key}&units={units}\"\n",
    "#response = requests.get(url)\n",
    "\n",
    "#weather_data_list = []\n",
    "\n",
    "#forecast\n",
    "\n",
    "\n"
   ]
  },
  {
   "cell_type": "code",
   "execution_count": 4,
   "metadata": {},
   "outputs": [],
   "source": [
    "url2 = f\"http://api.openweathermap.org/data/2.5/forecast?lat={latitude}&lon={longitude}&appid={key}&units={units}\"\n",
    "\n",
    "response = requests.get(url2)\n",
    "\n",
    "data = response.json()\n",
    "\n",
    "forecast_data_list = []\n",
    "\n",
    "for item in data[\"list\"]:\n",
    "    forecast_info = {\n",
    "        \"date\": item[\"dt_txt\"].split(\" \")[0],\n",
    "        \"temperature\": item[\"main\"][\"temp\"],\n",
    "        \"humidity\": item[\"main\"][\"humidity\"],\n",
    "        \"weather_description\": item[\"weather\"][0][\"description\"],\n",
    "        \"wind_speed\": item[\"wind\"][\"speed\"]\n",
    "    }\n",
    "    forecast_data_list.append(forecast_info)\n",
    "\n",
    "# Converting the list to a DataFrame\n",
    "forecast_df = pd.DataFrame(forecast_data_list)\n",
    "\n",
    "daily_summary = forecast_df.groupby('date').agg(\n",
    "    daily_high=('temperature', 'max'),\n",
    "    daily_low=('temperature', 'min'),\n",
    "    avg_humidity=('humidity', 'mean'),\n",
    "    #weather_descriptions=('weather_description', lambda x: ', '.join(set(x))),\n",
    "    avg_wind_speed=('wind_speed', 'mean')\n",
    ").reset_index()\n",
    "\n",
    "\n",
    "daily_summary.to_json(\"weather_forecast.json\", orient = \"records\")"
   ]
  },
  {
   "cell_type": "code",
   "execution_count": 16,
   "metadata": {},
   "outputs": [
    {
     "name": "stdout",
     "output_type": "stream",
     "text": [
      "         city           coordinates  temperature  humidity           weather  \\\n",
      "0    Honolulu  [21.3069, -157.8583]        84.83        53  scattered clouds   \n",
      "1     Waipahu  [21.3867, -158.0092]        85.42        50         clear sky   \n",
      "2  Pearl City  [21.3972, -157.9733]        85.71        51  scattered clouds   \n",
      "3      Kailua  [21.4022, -157.7394]        86.50        53        few clouds   \n",
      "4     Kaneohe  [21.4181, -157.8036]        86.05        52        few clouds   \n",
      "5        Aiea  [21.3822, -157.9336]        85.71        52  scattered clouds   \n",
      "6   Ewa Beach  [21.3156, -158.0072]        85.39        49         clear sky   \n",
      "7    Hale'iwa  [21.5903, -158.1125]        85.57        47         clear sky   \n",
      "\n",
      "   wind_speed  \n",
      "0       12.66  \n",
      "1       11.50  \n",
      "2       11.50  \n",
      "3       12.66  \n",
      "4       12.66  \n",
      "5       12.66  \n",
      "6       11.50  \n",
      "7       11.50  \n"
     ]
    }
   ],
   "source": [
    "cities = [\"Honolulu\", \"Waipahu\", \"Pearl City\", \"Kailua\", \"Kaneohe\",\"Aiea\",\"Ewa Beach\",\"Hale'iwa\"]\n",
    "city_weather = []\n",
    "\n",
    "\n",
    "for city in cities:\n",
    "    url = f\"http://api.openweathermap.org/data/2.5/weather?q={city}&appid={key}&units={units}\"\n",
    "    response = requests.get(url)\n",
    "    if response.status_code == 200:\n",
    "        weather_data = response.json()\n",
    "        weather_info = {\n",
    "            \"city\": city,\n",
    "            \"coordinates\": [weather_data[\"coord\"][\"lat\"], weather_data[\"coord\"][\"lon\"]],\n",
    "            \"temperature\": weather_data[\"main\"][\"temp\"],\n",
    "            \"humidity\": weather_data[\"main\"][\"humidity\"],\n",
    "            \"weather\": weather_data[\"weather\"][0][\"description\"],\n",
    "            \"wind_speed\": weather_data[\"wind\"][\"speed\"]\n",
    "        }\n",
    "        city_weather.append(weather_info)\n",
    "\n",
    "weather_df = pd.DataFrame(city_weather)\n",
    "print(weather_df)\n",
    "\n",
    "weather_df.to_json(\"city_weather.json\", orient=\"records\")"
   ]
  }
 ],
 "metadata": {
  "kernelspec": {
   "display_name": "Python 3",
   "language": "python",
   "name": "python3"
  },
  "language_info": {
   "codemirror_mode": {
    "name": "ipython",
    "version": 3
   },
   "file_extension": ".py",
   "mimetype": "text/x-python",
   "name": "python",
   "nbconvert_exporter": "python",
   "pygments_lexer": "ipython3",
   "version": "3.11.7"
  }
 },
 "nbformat": 4,
 "nbformat_minor": 2
}
