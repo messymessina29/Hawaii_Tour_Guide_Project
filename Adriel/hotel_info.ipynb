{
 "cells": [
  {
   "cell_type": "code",
   "execution_count": 1,
   "metadata": {},
   "outputs": [],
   "source": [
    "# Dependencies\n",
    "import pandas as pd\n",
    "import numpy as np\n",
    "import requests\n",
    "import json\n",
    "import pprint\n",
    "\n",
    "# Import the API key\n",
    "from config import API_KEY"
   ]
  },
  {
   "cell_type": "code",
   "execution_count": 13,
   "metadata": {},
   "outputs": [],
   "source": [
    "honolulu_lat = 21.3099\n",
    "honolulu_lon = -157.8581\n",
    "limit = 100\n",
    "radius = 8000\n",
    "filters = f\"circle:{honolulu_lon},{honolulu_lat},{radius}\"\n",
    "bias = f\"proximity:{honolulu_lon},{honolulu_lat}\"\n",
    "\n",
    "params = {\n",
    "    'term': 'hotels',\n",
    "    'location': 'Waikiki, Honolulu, HI',\n",
    "    'price': '1,2,3,4',\n",
    "    'attributes': 'wifi_free,wheelchair_accessible',\n",
    "    'sort_by': 'rating',\n",
    "    'limit': 75\n",
    "}\n",
    "\n",
    "headers = {\n",
    "    \"accept\": \"application/json\",\n",
    "    \"content-type\": \"application/json\",\n",
    "    \"Authorization\": f'Bearer{API_KEY}'\n",
    "}\n",
    "\n",
    "base_url = 'https://api.yelp.com/v3/businesses/search'"
   ]
  },
  {
   "cell_type": "code",
   "execution_count": 14,
   "metadata": {},
   "outputs": [
    {
     "name": "stdout",
     "output_type": "stream",
     "text": [
      "{\n",
      "    \"error\": {\n",
      "        \"code\": \"VALIDATION_ERROR\",\n",
      "        \"description\": \"\\\"f'Bearer{API_KEY}'\\\" does not match '^(?i)Bearer [A-Za-z0-9\\\\\\\\-\\\\\\\\_]{128}$'\",\n",
      "        \"field\": \"Authorization\",\n",
      "        \"instance\": \"f'Bearer{API_KEY}'\"\n",
      "    }\n",
      "}\n"
     ]
    }
   ],
   "source": [
    "response = requests.get(base_url, headers=headers, params=params).json()\n",
    " \n",
    "print(json.dumps(response, indent=4, sort_keys=True))"
   ]
  }
 ],
 "metadata": {
  "kernelspec": {
   "display_name": "base",
   "language": "python",
   "name": "python3"
  },
  "language_info": {
   "codemirror_mode": {
    "name": "ipython",
    "version": 3
   },
   "file_extension": ".py",
   "mimetype": "text/x-python",
   "name": "python",
   "nbconvert_exporter": "python",
   "pygments_lexer": "ipython3",
   "version": "3.11.7"
  }
 },
 "nbformat": 4,
 "nbformat_minor": 2
}
